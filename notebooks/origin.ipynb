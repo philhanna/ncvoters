{
 "cells": [
  {
   "cell_type": "markdown",
   "source": [],
   "metadata": {
    "collapsed": false,
    "pycharm": {
     "name": "#%% md\n"
    }
   }
  },
  {
   "cell_type": "markdown",
   "source": [
    "# Places of origin by last name"
   ],
   "metadata": {
    "collapsed": false,
    "pycharm": {
     "name": "#%% md\n"
    }
   }
  },
  {
   "cell_type": "code",
   "execution_count": 1,
   "outputs": [],
   "source": [
    "# Get the name of the database file and make it read-only\n",
    "from pathlib import Path\n",
    "\n",
    "# Note: this assumes you have copied the `ncvoters.db` database to your home directory\n",
    "dbfile = Path(\"~/ncvoters.db\").expanduser()\n",
    "uri = \"file:\" + str(dbfile) + \"?mode=ro\""
   ],
   "metadata": {
    "collapsed": false,
    "pycharm": {
     "name": "#%%\n"
    }
   }
  },
  {
   "cell_type": "markdown",
   "source": [
    "Query to be used:"
   ],
   "metadata": {
    "collapsed": false,
    "pycharm": {
     "name": "#%% md\n"
    }
   }
  },
  {
   "cell_type": "code",
   "execution_count": 2,
   "outputs": [],
   "source": [
    "query_sql = \"\"\"\n",
    "    SELECT\t\tdistinct last_name, birth_state, sum(one) as nbr\n",
    "    FROM (\n",
    "        SELECT\t\tlast_name, birth_state, 1 as one\n",
    "        FROM\t\tvoters\n",
    "        WHERE\t\tlast_name is not NULL\n",
    "        AND\t\t\ttrim(last_name) != \"\"\n",
    "        AND\t\t\tbirth_state is not NULL\n",
    "        AND\t\t\ttrim(birth_state) != \"\"\n",
    "    )\n",
    "    GROUP BY\t\tlast_name, birth_state\n",
    "    HAVING\t\t\tnbr > 10\n",
    "    ORDER BY\t\t1, 3 DESC\n",
    ";\n",
    "\"\"\""
   ],
   "metadata": {
    "collapsed": false,
    "pycharm": {
     "name": "#%%\n"
    }
   }
  },
  {
   "cell_type": "markdown",
   "source": [
    "Run the query and read the results"
   ],
   "metadata": {
    "collapsed": false,
    "pycharm": {
     "name": "#%% md\n"
    }
   }
  },
  {
   "cell_type": "code",
   "execution_count": 3,
   "outputs": [],
   "source": [
    "import sqlite3\n",
    "\n",
    "with sqlite3.connect(uri) as con:\n",
    "    c = con.cursor()\n",
    "    res = c.execute(query_sql)\n",
    "    prev_last_name = None\n",
    "    for row in res.fetchall():\n",
    "        last_name, birth_state, count = row\n",
    "        if last_name != prev_last_name:\n",
    "            pass"
   ],
   "metadata": {
    "collapsed": false,
    "pycharm": {
     "name": "#%%\n"
    }
   }
  }
 ],
 "metadata": {
  "kernelspec": {
   "display_name": "Python 3",
   "language": "python",
   "name": "python3"
  },
  "language_info": {
   "codemirror_mode": {
    "name": "ipython",
    "version": 2
   },
   "file_extension": ".py",
   "mimetype": "text/x-python",
   "name": "python",
   "nbconvert_exporter": "python",
   "pygments_lexer": "ipython2",
   "version": "2.7.6"
  }
 },
 "nbformat": 4,
 "nbformat_minor": 0
}