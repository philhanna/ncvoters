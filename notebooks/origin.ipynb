{
 "cells": [
  {
   "cell_type": "markdown",
   "metadata": {
    "pycharm": {
     "name": "#%% md\n"
    }
   },
   "source": []
  },
  {
   "cell_type": "markdown",
   "metadata": {
    "pycharm": {
     "name": "#%% md\n"
    }
   },
   "source": [
    "# Places of origin by last name"
   ]
  },
  {
   "cell_type": "code",
   "execution_count": null,
   "outputs": [],
   "source": [
    "# Get the name of the database file and make it read-only\n",
    "from pathlib import Path\n",
    "\n",
    "# Note: this assumes you have copied the `ncvoters.db` database to your home directory\n",
    "dbfile = Path.home().joinpath(\"ncvoters.db\")\n",
    "print(f\"Database file is {dbfile}\")"
   ],
   "metadata": {
    "collapsed": false,
    "pycharm": {
     "name": "#%%\n"
    }
   }
  },
  {
   "cell_type": "markdown",
   "source": [
    "Query to be used:"
   ],
   "metadata": {
    "collapsed": false,
    "pycharm": {
     "name": "#%% md\n"
    }
   }
  },
  {
   "cell_type": "code",
   "execution_count": null,
   "outputs": [],
   "source": [
    "query_sql = \"\"\"\n",
    "    SELECT\t\tdistinct last_name, birth_state, sum(one) as nbr\n",
    "    FROM (\n",
    "        SELECT\t\tlast_name, birth_state, 1 as one\n",
    "        FROM\t\tvoters\n",
    "        WHERE\t\tlast_name is not NULL\n",
    "        AND\t\t\ttrim(last_name) != \"\"\n",
    "        AND\t\t\tbirth_state is not NULL\n",
    "        AND\t\t\ttrim(birth_state) != \"\"\n",
    "    )\n",
    "    GROUP BY\t\tlast_name, birth_state\n",
    "    HAVING\t\t\tnbr > 10\n",
    "    ORDER BY\t\t1, 3 DESC\n",
    ";\n",
    "\"\"\""
   ],
   "metadata": {
    "collapsed": false,
    "pycharm": {
     "name": "#%%\n"
    }
   }
  },
  {
   "cell_type": "markdown",
   "source": [
    "Run the query and read the results"
   ],
   "metadata": {
    "collapsed": false,
    "pycharm": {
     "name": "#%% md\n"
    }
   }
  },
  {
   "cell_type": "code",
   "execution_count": null,
   "outputs": [],
   "source": [
    "import sqlite3\n",
    "\n",
    "with sqlite3.connect(dbfile) as con:\n",
    "    c = con.cursor()\n",
    "    res = c.execute(query_sql)\n",
    "    prev_last_name = None\n",
    "    state_list = []\n",
    "    for row in res.fetchall():\n",
    "        last_name, birth_state, count = row\n",
    "        if last_name != prev_last_name:\n",
    "            if prev_last_name is not None:\n",
    "                print(f\"{prev_last_name:16s} {state_list}\")\n",
    "            state_list.clear()\n",
    "        if len(state_list) < 5:\n",
    "            state_list.append(birth_state)\n",
    "        prev_last_name = last_name"
   ],
   "metadata": {
    "collapsed": false,
    "pycharm": {
     "name": "#%%\n"
    }
   }
  }
 ],
 "metadata": {
  "kernelspec": {
   "display_name": "Python 3",
   "language": "python",
   "name": "python3"
  },
  "language_info": {
   "codemirror_mode": {
    "name": "ipython",
    "version": 3
   },
   "file_extension": ".py",
   "mimetype": "text/x-python",
   "name": "python",
   "nbconvert_exporter": "python",
   "pygments_lexer": "ipython3",
   "version": "3.7.3"
  }
 },
 "nbformat": 4,
 "nbformat_minor": 1
}