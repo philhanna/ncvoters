{
 "cells": [
  {
   "cell_type": "markdown",
   "metadata": {
    "pycharm": {
     "name": "#%% md\n"
    }
   },
   "source": [
    "# Most popular names in North Carolina by decade\n",
    "Source: My analysis of data from [NC voter registrations](https://www.ncsbe.gov/results-data/voter-registration-data)"
   ]
  },
  {
   "cell_type": "code",
   "execution_count": null,
   "metadata": {
    "pycharm": {
     "name": "#%%\n"
    }
   },
   "outputs": [],
   "source": [
    "# # Get the name of the database file\n",
    "from pathlib import Path\n",
    "\n",
    "# # Note: this assumes you have copied the `ncvoters.db` database to this directory\n",
    "# dbfile = Path(\"ncvoters.db\")\n",
    "\n",
    "# # # EKH\n",
    "# for some reason it got mad at me when I tried to use the Path, but it was happy with the string\n",
    "dbpath = Path(\"~/ncvoters.db\").expanduser()\n",
    "\n",
    "# Change this to how many columns you want to see (i.e., 10 for the top 10)\n",
    "NUMBER_OF_BUCKETS = 10\n",
    "\n"
   ]
  },
  {
   "cell_type": "markdown",
   "metadata": {
    "pycharm": {
     "name": "#%% md\n"
    }
   },
   "source": [
    "SQL query to be used:"
   ]
  },
  {
   "cell_type": "code",
   "execution_count": null,
   "metadata": {
    "pycharm": {
     "name": "#%%\n"
    }
   },
   "outputs": [],
   "source": [
    "import sqlite3\n",
    "import pandas as pd\n",
    "import numpy as np\n",
    "\n",
    "def query(race_code, gender_code, start_year=1900, end_year=2000, top=NUMBER_OF_BUCKETS):\n",
    "\n",
    "    def decadify(x): return int(10 * np.floor(x / 10))\n",
    "\n",
    "    assert (start_year == decadify(start_year)) & (\n",
    "        end_year == decadify(end_year)), \"Make sure your year ends in a zero\"\n",
    "\n",
    "    q = f'''\n",
    "    SELECT *\n",
    "    FROM (\n",
    "        SELECT  decade,\n",
    "                first_name,\n",
    "                ROW_NUMBER() OVER(PARTITION BY decade ORDER BY n_rows DESC) rank\n",
    "        FROM    (\n",
    "            SELECT      10 * CAST(birth_year / 10 AS INT) decade,\n",
    "                        first_name,\n",
    "                        COUNT(first_name) n_rows\n",
    "            FROM        voters\n",
    "            WHERE       race_code = '{race_code}'\n",
    "            AND         gender_code = '{gender_code}'\n",
    "            AND         birth_year BETWEEN {start_year} AND {end_year}\n",
    "            GROUP BY    decade, first_name\n",
    "        ) a\n",
    "    ) b\n",
    "    WHERE rank <= {top}\n",
    "    '''\n",
    "\n",
    "    # pandas has a sql query reader built right in!\n",
    "    # I think the pivoting here can also be done in SQL, but I've never gotten the hang of it.\n",
    "    # much easier to pivot in pandas imho\n",
    "    with sqlite3.connect(dbpath) as con:\n",
    "        df = (\n",
    "            pd.read_sql(q, con)\n",
    "            .pivot(\n",
    "                index=\"decade\",\n",
    "                columns=\"rank\",\n",
    "                values=\"first_name\"\n",
    "            )\n",
    "            .sort_index(ascending=False)\n",
    "        )\n",
    "\n",
    "    df.columns.name = None  # this is just to make the dataframe look nice, it's not necessary\n",
    "    df.reset_index(inplace=True)\n",
    "\n",
    "    return df\n"
   ]
  },
  {
   "cell_type": "code",
   "execution_count": null,
   "metadata": {
    "collapsed": false,
    "pycharm": {
     "name": "#%%\n"
    }
   },
   "outputs": [],
   "source": [
    "query(\"W\", \"M\")\n"
   ]
  },
  {
   "cell_type": "code",
   "execution_count": null,
   "metadata": {
    "collapsed": false,
    "pycharm": {
     "name": "#%%\n"
    }
   },
   "outputs": [],
   "source": [
    "query(\"W\", \"F\")\n"
   ]
  },
  {
   "cell_type": "code",
   "execution_count": null,
   "metadata": {
    "collapsed": false,
    "pycharm": {
     "name": "#%%\n"
    }
   },
   "outputs": [],
   "source": [
    "query(\"B\", \"M\")\n"
   ]
  },
  {
   "cell_type": "code",
   "execution_count": null,
   "metadata": {
    "collapsed": false,
    "pycharm": {
     "name": "#%%\n"
    }
   },
   "outputs": [],
   "source": [
    "query(\"B\", \"F\")\n"
   ]
  }
 ],
 "metadata": {
  "kernelspec": {
   "display_name": "Python 3",
   "language": "python",
   "name": "python3"
  },
  "language_info": {
   "codemirror_mode": {
    "name": "ipython",
    "version": 3
   },
   "file_extension": ".py",
   "mimetype": "text/x-python",
   "name": "python",
   "nbconvert_exporter": "python",
   "pygments_lexer": "ipython3",
   "version": "3.10.6"
  },
  "vscode": {
   "interpreter": {
    "hash": "97cc609b13305c559618ec78a438abc56230b9381f827f22d070313b9a1f3777"
   }
  }
 },
 "nbformat": 4,
 "nbformat_minor": 2
}
