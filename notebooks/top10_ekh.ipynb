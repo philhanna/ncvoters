{
 "cells": [
  {
   "cell_type": "markdown",
   "metadata": {
    "pycharm": {
     "name": "#%% md\n"
    }
   },
   "source": [
    "# Most popular names in North Carolina by decade\n",
    "Source: My analysis of data from [NC voter registrations](https://www.ncsbe.gov/results-data/voter-registration-data)"
   ]
  },
  {
   "cell_type": "code",
   "execution_count": null,
   "metadata": {
    "pycharm": {
     "name": "#%%\n"
    }
   },
   "outputs": [],
   "source": [
    "# # Get the name of the database file\n",
    "# from pathlib import Path\n",
    "\n",
    "# # Note: this assumes you have copied the `ncvoters.db` database to this directory\n",
    "# dbfile = Path(\"ncvoters.db\")\n",
    "\n",
    "# # # EKH\n",
    "dbpath = \"ncvoters.db\" # for some reason it got mad at me when I tried to use the Path, but it was happy with the string"
   ]
  },
  {
   "cell_type": "markdown",
   "metadata": {
    "pycharm": {
     "name": "#%% md\n"
    }
   },
   "source": [
    "SQL query to be used:"
   ]
  },
  {
   "cell_type": "code",
   "execution_count": null,
   "metadata": {
    "pycharm": {
     "name": "#%%\n"
    }
   },
   "outputs": [],
   "source": [
    "# query_sql = \"\"\"\n",
    "#     SELECT      DISTINCT first_name, COUNT(first_name) as number\n",
    "#     FROM        voters\n",
    "#     WHERE       race_code = ?\n",
    "#     AND         gender_code = ?\n",
    "#     AND         birth_year BETWEEN ? AND ?\n",
    "#     GROUP BY    first_name\n",
    "#     ORDER BY    2 DESC\n",
    "#     LIMIT       10\n",
    "# \"\"\"\n",
    "\n",
    "# def query(race_code, gender_code):\n",
    "#     import sqlite3\n",
    "\n",
    "#     with sqlite3.connect(dbfile) as con:\n",
    "#         c = con.cursor()\n",
    "#         for year in range(2000, 1900-1, -10):\n",
    "#             end_year = year + 10-1\n",
    "#             c.execute(query_sql, (race_code, gender_code, year, end_year))\n",
    "#             outrow = [year]\n",
    "#             for i, row in enumerate(c.fetchall()):\n",
    "#                 outrow.append(row[0])\n",
    "#             yield outrow\n",
    "\n",
    "# # # EKH\n",
    "\n",
    "import sqlite3\n",
    "import pandas as pd\n",
    "import numpy as np\n",
    "\n",
    "def query(race_code, gender_code, start_year = 1900, end_year = 2000, top = 10):\n",
    "    \n",
    "    decadify = lambda x: int(10 * np.floor(x / 10))\n",
    "    \n",
    "    assert (start_year == decadify(start_year)) & (end_year == decadify(end_year)), \"Make sure your year ends in a zero\"\n",
    "    \n",
    "    # okay, there's got to be a more elegant way for me to have done this instead of doing multiple nested subqueries\n",
    "    # but this is what I ended up with\n",
    "    # (the problem was getting it to recognize 'rank')\n",
    "    q = f'''\n",
    "    select *\n",
    "    from (\n",
    "        select\n",
    "            decade,\n",
    "            first_name,\n",
    "            row_number() over(partition by decade order by n_rows desc) rank\n",
    "        from (\n",
    "            select\n",
    "                10 * cast(birth_year / 10 as int) decade,\n",
    "                first_name,\n",
    "                count(first_name) n_rows            \n",
    "            from voters\n",
    "            where race_code = '{race_code}'\n",
    "            and gender_code = '{gender_code}'\n",
    "            and birth_year between {start_year} and {end_year}\n",
    "            group by decade, first_name\n",
    "        ) a\n",
    "    ) b\n",
    "    where rank <= {top}\n",
    "    '''\n",
    "    \n",
    "    # pandas has a sql query reader built right in!\n",
    "    # I think the pivoting here can also be done in SQL, but I've never gotten the hang of it.\n",
    "    # much easier to pivot in pandas imho\n",
    "    with sqlite3.connect(dbpath) as con:\n",
    "        df = (\n",
    "            pd.read_sql(q, con)\n",
    "            .pivot(\n",
    "                index = \"decade\",\n",
    "                columns = \"rank\",\n",
    "                values = \"first_name\"\n",
    "            )\n",
    "            .sort_index(ascending = False)\n",
    "        )\n",
    "        \n",
    "    df.columns.name = None # this is just to make the dataframe look nice, it's not necessary\n",
    "    df.reset_index(inplace = True)\n",
    "    \n",
    "    return df"
   ]
  },
  {
   "cell_type": "code",
   "execution_count": null,
   "metadata": {
    "pycharm": {
     "name": "#%%\n"
    }
   },
   "outputs": [],
   "source": [
    "x = query(\"W\",\"M\")"
   ]
  },
  {
   "cell_type": "code",
   "execution_count": null,
   "metadata": {
    "pycharm": {
     "name": "#%%\n"
    }
   },
   "outputs": [],
   "source": [
    "x"
   ]
  },
  {
   "cell_type": "markdown",
   "metadata": {
    "pycharm": {
     "name": "#%% md\n"
    }
   },
   "source": [
    "### White men"
   ]
  },
  {
   "cell_type": "code",
   "execution_count": null,
   "metadata": {
    "pycharm": {
     "name": "#%%\n"
    }
   },
   "outputs": [],
   "source": [
    "for row in query(\"W\", \"M\"):\n",
    "    print(row)"
   ]
  }
 ],
 "metadata": {
  "kernelspec": {
   "display_name": "Python 3",
   "language": "python",
   "name": "python3"
  },
  "language_info": {
   "codemirror_mode": {
    "name": "ipython",
    "version": 3
   },
   "file_extension": ".py",
   "mimetype": "text/x-python",
   "name": "python",
   "nbconvert_exporter": "python",
   "pygments_lexer": "ipython3",
   "version": "3.7.3"
  }
 },
 "nbformat": 4,
 "nbformat_minor": 2
}