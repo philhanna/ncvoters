{
 "cells": [
  {
   "cell_type": "markdown",
   "metadata": {
    "pycharm": {
     "name": "#%% md\n"
    }
   },
   "source": [
    "# Most popular names in North Carolina by decade\n",
    "Source: My analysis of data from [NC voter registrations](https://www.ncsbe.gov/results-data/voter-registration-data)"
   ]
  },
  {
   "cell_type": "code",
   "execution_count": 11,
   "metadata": {
    "pycharm": {
     "name": "#%%\n"
    }
   },
   "outputs": [],
   "source": [
    "# # Get the name of the database file\n",
    "# from pathlib import Path\n",
    "\n",
    "# # Note: this assumes you have copied the `ncvoters.db` database to this directory\n",
    "# dbfile = Path(\"ncvoters.db\")\n",
    "\n",
    "# # # EKH\n",
    "dbpath = \"/home/saspeh/ncvoters.db\" # for some reason it got mad at me when I tried to use the Path, but it was happy with the string"
   ]
  },
  {
   "cell_type": "markdown",
   "metadata": {
    "pycharm": {
     "name": "#%% md\n"
    }
   },
   "source": [
    "SQL query to be used:"
   ]
  },
  {
   "cell_type": "code",
   "execution_count": 12,
   "metadata": {
    "pycharm": {
     "name": "#%%\n"
    }
   },
   "outputs": [],
   "source": [
    "import sqlite3\n",
    "import pandas as pd\n",
    "import numpy as np\n",
    "\n",
    "def query(race_code, gender_code, start_year = 1900, end_year = 2000, top = 10):\n",
    "    \n",
    "    decadify = lambda x: int(10 * np.floor(x / 10))\n",
    "    \n",
    "    assert (start_year == decadify(start_year)) & (end_year == decadify(end_year)), \"Make sure your year ends in a zero\"\n",
    "\n",
    "    q = f'''\n",
    "    select *\n",
    "    from (\n",
    "        select  decade,\n",
    "                first_name,\n",
    "                row_number() over(partition by decade order by n_rows desc) rank\n",
    "        from    (\n",
    "            select      10 * cast(birth_year / 10 as int) decade,\n",
    "                        first_name,\n",
    "                        count(first_name) n_rows\n",
    "            from        voters\n",
    "            where       race_code = '{race_code}'\n",
    "            and         gender_code = '{gender_code}'\n",
    "            and         birth_year between {start_year} and {end_year}\n",
    "            group by    decade, first_name\n",
    "        ) a\n",
    "    ) b\n",
    "    where rank <= {top}\n",
    "    '''\n",
    "    \n",
    "    # pandas has a sql query reader built right in!\n",
    "    # I think the pivoting here can also be done in SQL, but I've never gotten the hang of it.\n",
    "    # much easier to pivot in pandas imho\n",
    "    with sqlite3.connect(dbpath) as con:\n",
    "        df = (\n",
    "            pd.read_sql(q, con)\n",
    "            .pivot(\n",
    "                index = \"decade\",\n",
    "                columns = \"rank\",\n",
    "                values = \"first_name\"\n",
    "            )\n",
    "            .sort_index(ascending = False)\n",
    "        )\n",
    "        \n",
    "    df.columns.name = None # this is just to make the dataframe look nice, it's not necessary\n",
    "    df.reset_index(inplace = True)\n",
    "    \n",
    "    return df"
   ]
  },
  {
   "cell_type": "code",
   "execution_count": 13,
   "metadata": {
    "pycharm": {
     "name": "#%%\n"
    }
   },
   "outputs": [],
   "source": [
    "x = query(\"W\",\"M\")"
   ]
  },
  {
   "cell_type": "code",
   "execution_count": 14,
   "outputs": [
    {
     "data": {
      "text/plain": "    decade        1            2        3       4            5         6  \\\n0     2000    JACOB      WILLIAM  MATTHEW  JOSHUA      MICHAEL  NICHOLAS   \n1     1990  MATTHEW      MICHAEL  WILLIAM  JOSHUA  CHRISTOPHER     JACOB   \n2     1980  MICHAEL  CHRISTOPHER  MATTHEW  JOSHUA        JAMES     DAVID   \n3     1970  MICHAEL  CHRISTOPHER    JAMES   DAVID        JASON      JOHN   \n4     1960  MICHAEL        JAMES    DAVID    JOHN       ROBERT   WILLIAM   \n5     1950    JAMES      MICHAEL   ROBERT   DAVID         JOHN   WILLIAM   \n6     1940    JAMES       ROBERT  WILLIAM    JOHN        DAVID   CHARLES   \n7     1930    JAMES       ROBERT  WILLIAM    JOHN      CHARLES   RICHARD   \n8     1920  WILLIAM        JAMES     JOHN  ROBERT      CHARLES    GEORGE   \n9     1910     JOHN      WILLIAM    JAMES  ROBERT      CHARLES    GEORGE   \n10    1900    JAMES       ROBERT  WILLIAM    JOHN      CHARLES   RICHARD   \n\n          7        8            9       10  \n0      JOHN   ANDREW  CHRISTOPHER    JAMES  \n1      JOHN   ANDREW        JAMES  ZACHARY  \n2      JOHN  WILLIAM       DANIEL   ROBERT  \n3    ROBERT  WILLIAM        BRIAN  MATTHEW  \n4      MARK  JEFFREY      RICHARD  TIMOTHY  \n5   RICHARD   THOMAS      CHARLES     MARK  \n6   RICHARD   THOMAS      MICHAEL    LARRY  \n7    DONALD   THOMAS        DAVID   GEORGE  \n8    THOMAS  RICHARD       JOSEPH   DONALD  \n9    JOSEPH   THOMAS         PAUL    FRANK  \n10   GEORGE    DAVID       JOSEPH    BILLY  ",
      "text/html": "<div>\n<style scoped>\n    .dataframe tbody tr th:only-of-type {\n        vertical-align: middle;\n    }\n\n    .dataframe tbody tr th {\n        vertical-align: top;\n    }\n\n    .dataframe thead th {\n        text-align: right;\n    }\n</style>\n<table border=\"1\" class=\"dataframe\">\n  <thead>\n    <tr style=\"text-align: right;\">\n      <th></th>\n      <th>decade</th>\n      <th>1</th>\n      <th>2</th>\n      <th>3</th>\n      <th>4</th>\n      <th>5</th>\n      <th>6</th>\n      <th>7</th>\n      <th>8</th>\n      <th>9</th>\n      <th>10</th>\n    </tr>\n  </thead>\n  <tbody>\n    <tr>\n      <th>0</th>\n      <td>2000</td>\n      <td>JACOB</td>\n      <td>WILLIAM</td>\n      <td>MATTHEW</td>\n      <td>JOSHUA</td>\n      <td>MICHAEL</td>\n      <td>NICHOLAS</td>\n      <td>JOHN</td>\n      <td>ANDREW</td>\n      <td>CHRISTOPHER</td>\n      <td>JAMES</td>\n    </tr>\n    <tr>\n      <th>1</th>\n      <td>1990</td>\n      <td>MATTHEW</td>\n      <td>MICHAEL</td>\n      <td>WILLIAM</td>\n      <td>JOSHUA</td>\n      <td>CHRISTOPHER</td>\n      <td>JACOB</td>\n      <td>JOHN</td>\n      <td>ANDREW</td>\n      <td>JAMES</td>\n      <td>ZACHARY</td>\n    </tr>\n    <tr>\n      <th>2</th>\n      <td>1980</td>\n      <td>MICHAEL</td>\n      <td>CHRISTOPHER</td>\n      <td>MATTHEW</td>\n      <td>JOSHUA</td>\n      <td>JAMES</td>\n      <td>DAVID</td>\n      <td>JOHN</td>\n      <td>WILLIAM</td>\n      <td>DANIEL</td>\n      <td>ROBERT</td>\n    </tr>\n    <tr>\n      <th>3</th>\n      <td>1970</td>\n      <td>MICHAEL</td>\n      <td>CHRISTOPHER</td>\n      <td>JAMES</td>\n      <td>DAVID</td>\n      <td>JASON</td>\n      <td>JOHN</td>\n      <td>ROBERT</td>\n      <td>WILLIAM</td>\n      <td>BRIAN</td>\n      <td>MATTHEW</td>\n    </tr>\n    <tr>\n      <th>4</th>\n      <td>1960</td>\n      <td>MICHAEL</td>\n      <td>JAMES</td>\n      <td>DAVID</td>\n      <td>JOHN</td>\n      <td>ROBERT</td>\n      <td>WILLIAM</td>\n      <td>MARK</td>\n      <td>JEFFREY</td>\n      <td>RICHARD</td>\n      <td>TIMOTHY</td>\n    </tr>\n    <tr>\n      <th>5</th>\n      <td>1950</td>\n      <td>JAMES</td>\n      <td>MICHAEL</td>\n      <td>ROBERT</td>\n      <td>DAVID</td>\n      <td>JOHN</td>\n      <td>WILLIAM</td>\n      <td>RICHARD</td>\n      <td>THOMAS</td>\n      <td>CHARLES</td>\n      <td>MARK</td>\n    </tr>\n    <tr>\n      <th>6</th>\n      <td>1940</td>\n      <td>JAMES</td>\n      <td>ROBERT</td>\n      <td>WILLIAM</td>\n      <td>JOHN</td>\n      <td>DAVID</td>\n      <td>CHARLES</td>\n      <td>RICHARD</td>\n      <td>THOMAS</td>\n      <td>MICHAEL</td>\n      <td>LARRY</td>\n    </tr>\n    <tr>\n      <th>7</th>\n      <td>1930</td>\n      <td>JAMES</td>\n      <td>ROBERT</td>\n      <td>WILLIAM</td>\n      <td>JOHN</td>\n      <td>CHARLES</td>\n      <td>RICHARD</td>\n      <td>DONALD</td>\n      <td>THOMAS</td>\n      <td>DAVID</td>\n      <td>GEORGE</td>\n    </tr>\n    <tr>\n      <th>8</th>\n      <td>1920</td>\n      <td>WILLIAM</td>\n      <td>JAMES</td>\n      <td>JOHN</td>\n      <td>ROBERT</td>\n      <td>CHARLES</td>\n      <td>GEORGE</td>\n      <td>THOMAS</td>\n      <td>RICHARD</td>\n      <td>JOSEPH</td>\n      <td>DONALD</td>\n    </tr>\n    <tr>\n      <th>9</th>\n      <td>1910</td>\n      <td>JOHN</td>\n      <td>WILLIAM</td>\n      <td>JAMES</td>\n      <td>ROBERT</td>\n      <td>CHARLES</td>\n      <td>GEORGE</td>\n      <td>JOSEPH</td>\n      <td>THOMAS</td>\n      <td>PAUL</td>\n      <td>FRANK</td>\n    </tr>\n    <tr>\n      <th>10</th>\n      <td>1900</td>\n      <td>JAMES</td>\n      <td>ROBERT</td>\n      <td>WILLIAM</td>\n      <td>JOHN</td>\n      <td>CHARLES</td>\n      <td>RICHARD</td>\n      <td>GEORGE</td>\n      <td>DAVID</td>\n      <td>JOSEPH</td>\n      <td>BILLY</td>\n    </tr>\n  </tbody>\n</table>\n</div>"
     },
     "execution_count": 14,
     "metadata": {},
     "output_type": "execute_result"
    }
   ],
   "source": [
    "x"
   ],
   "metadata": {
    "collapsed": false,
    "pycharm": {
     "name": "#%%\n"
    }
   }
  }
 ],
 "metadata": {
  "kernelspec": {
   "display_name": "Python 3",
   "language": "python",
   "name": "python3"
  },
  "language_info": {
   "codemirror_mode": {
    "name": "ipython",
    "version": 3
   },
   "file_extension": ".py",
   "mimetype": "text/x-python",
   "name": "python",
   "nbconvert_exporter": "python",
   "pygments_lexer": "ipython3",
   "version": "3.7.3"
  }
 },
 "nbformat": 4,
 "nbformat_minor": 2
}