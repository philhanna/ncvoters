{
 "cells": [
  {
   "cell_type": "markdown",
   "metadata": {
    "pycharm": {
     "name": "#%% md\n"
    }
   },
   "source": [
    "# Most popular names in North Carolina by decade\n",
    "Source: My analysis of data from [NC voter registrations](https://www.ncsbe.gov/results-data/voter-registration-data)"
   ]
  },
  {
   "cell_type": "code",
   "execution_count": 17,
   "metadata": {
    "pycharm": {
     "name": "#%%\n"
    }
   },
   "outputs": [],
   "source": [
    "# # Get the name of the database file\n",
    "# from pathlib import Path\n",
    "\n",
    "# # Note: this assumes you have copied the `ncvoters.db` database to this directory\n",
    "# dbfile = Path(\"ncvoters.db\")\n",
    "\n",
    "# # # EKH\n",
    "dbpath = \"/home/saspeh/ncvoters.db\" # for some reason it got mad at me when I tried to use the Path, but it was happy with the string"
   ]
  },
  {
   "cell_type": "markdown",
   "metadata": {
    "pycharm": {
     "name": "#%% md\n"
    }
   },
   "source": [
    "SQL query to be used:"
   ]
  },
  {
   "cell_type": "code",
   "execution_count": 18,
   "metadata": {
    "pycharm": {
     "name": "#%%\n"
    }
   },
   "outputs": [],
   "source": [
    "import sqlite3\n",
    "import pandas as pd\n",
    "import numpy as np\n",
    "\n",
    "def query(race_code, gender_code, start_year = 1900, end_year = 2000, top = 10):\n",
    "    \n",
    "    decadify = lambda x: int(10 * np.floor(x / 10))\n",
    "    \n",
    "    assert (start_year == decadify(start_year)) & (end_year == decadify(end_year)), \"Make sure your year ends in a zero\"\n",
    "\n",
    "    q = f'''\n",
    "    SELECT *\n",
    "    FROM (\n",
    "        SELECT  decade,\n",
    "                first_name,\n",
    "                ROW_NUMBER() OVER(PARTITION BY decade ORDER BY n_rows DESC) rank\n",
    "        FROM    (\n",
    "            SELECT      10 * CAST(birth_year / 10 AS INT) decade,\n",
    "                        first_name,\n",
    "                        COUNT(first_name) n_rows\n",
    "            FROM        voters\n",
    "            WHERE       race_code = '{race_code}'\n",
    "            AND         gender_code = '{gender_code}'\n",
    "            AND         birth_year BETWEEN {start_year} AND {end_year}\n",
    "            GROUP BY    decade, first_name\n",
    "        ) a\n",
    "    ) b\n",
    "    WHERE rank <= {top}\n",
    "    '''\n",
    "    \n",
    "    # pandas has a sql query reader built right in!\n",
    "    # I think the pivoting here can also be done in SQL, but I've never gotten the hang of it.\n",
    "    # much easier to pivot in pandas imho\n",
    "    with sqlite3.connect(dbpath) as con:\n",
    "        df = (\n",
    "            pd.read_sql(q, con)\n",
    "            .pivot(\n",
    "                index = \"decade\",\n",
    "                columns = \"rank\",\n",
    "                values = \"first_name\"\n",
    "            )\n",
    "            .sort_index(ascending = False)\n",
    "        )\n",
    "        \n",
    "    df.columns.name = None # this is just to make the dataframe look nice, it's not necessary\n",
    "    df.reset_index(inplace = True)\n",
    "    \n",
    "    return df"
   ]
  },
  {
   "cell_type": "code",
   "execution_count": 19,
   "outputs": [
    {
     "data": {
      "text/plain": "    decade        1            2        3       4            5         6  \\\n0     2000    JACOB      WILLIAM  MATTHEW  JOSHUA      MICHAEL  NICHOLAS   \n1     1990  MATTHEW      MICHAEL  WILLIAM  JOSHUA  CHRISTOPHER     JACOB   \n2     1980  MICHAEL  CHRISTOPHER  MATTHEW  JOSHUA        JAMES     DAVID   \n3     1970  MICHAEL  CHRISTOPHER    JAMES   DAVID        JASON      JOHN   \n4     1960  MICHAEL        JAMES    DAVID    JOHN       ROBERT   WILLIAM   \n5     1950    JAMES      MICHAEL   ROBERT   DAVID         JOHN   WILLIAM   \n6     1940    JAMES       ROBERT  WILLIAM    JOHN        DAVID   CHARLES   \n7     1930    JAMES       ROBERT  WILLIAM    JOHN      CHARLES   RICHARD   \n8     1920  WILLIAM        JAMES     JOHN  ROBERT      CHARLES    GEORGE   \n9     1910     JOHN      WILLIAM    JAMES  ROBERT      CHARLES    GEORGE   \n10    1900    JAMES       ROBERT  WILLIAM    JOHN      CHARLES   RICHARD   \n\n          7        8            9       10  \n0      JOHN   ANDREW  CHRISTOPHER    JAMES  \n1      JOHN   ANDREW        JAMES  ZACHARY  \n2      JOHN  WILLIAM       DANIEL   ROBERT  \n3    ROBERT  WILLIAM        BRIAN  MATTHEW  \n4      MARK  JEFFREY      RICHARD  TIMOTHY  \n5   RICHARD   THOMAS      CHARLES     MARK  \n6   RICHARD   THOMAS      MICHAEL    LARRY  \n7    DONALD   THOMAS        DAVID   GEORGE  \n8    THOMAS  RICHARD       JOSEPH   DONALD  \n9    JOSEPH   THOMAS         PAUL    FRANK  \n10   GEORGE    DAVID       JOSEPH    BILLY  ",
      "text/html": "<div>\n<style scoped>\n    .dataframe tbody tr th:only-of-type {\n        vertical-align: middle;\n    }\n\n    .dataframe tbody tr th {\n        vertical-align: top;\n    }\n\n    .dataframe thead th {\n        text-align: right;\n    }\n</style>\n<table border=\"1\" class=\"dataframe\">\n  <thead>\n    <tr style=\"text-align: right;\">\n      <th></th>\n      <th>decade</th>\n      <th>1</th>\n      <th>2</th>\n      <th>3</th>\n      <th>4</th>\n      <th>5</th>\n      <th>6</th>\n      <th>7</th>\n      <th>8</th>\n      <th>9</th>\n      <th>10</th>\n    </tr>\n  </thead>\n  <tbody>\n    <tr>\n      <th>0</th>\n      <td>2000</td>\n      <td>JACOB</td>\n      <td>WILLIAM</td>\n      <td>MATTHEW</td>\n      <td>JOSHUA</td>\n      <td>MICHAEL</td>\n      <td>NICHOLAS</td>\n      <td>JOHN</td>\n      <td>ANDREW</td>\n      <td>CHRISTOPHER</td>\n      <td>JAMES</td>\n    </tr>\n    <tr>\n      <th>1</th>\n      <td>1990</td>\n      <td>MATTHEW</td>\n      <td>MICHAEL</td>\n      <td>WILLIAM</td>\n      <td>JOSHUA</td>\n      <td>CHRISTOPHER</td>\n      <td>JACOB</td>\n      <td>JOHN</td>\n      <td>ANDREW</td>\n      <td>JAMES</td>\n      <td>ZACHARY</td>\n    </tr>\n    <tr>\n      <th>2</th>\n      <td>1980</td>\n      <td>MICHAEL</td>\n      <td>CHRISTOPHER</td>\n      <td>MATTHEW</td>\n      <td>JOSHUA</td>\n      <td>JAMES</td>\n      <td>DAVID</td>\n      <td>JOHN</td>\n      <td>WILLIAM</td>\n      <td>DANIEL</td>\n      <td>ROBERT</td>\n    </tr>\n    <tr>\n      <th>3</th>\n      <td>1970</td>\n      <td>MICHAEL</td>\n      <td>CHRISTOPHER</td>\n      <td>JAMES</td>\n      <td>DAVID</td>\n      <td>JASON</td>\n      <td>JOHN</td>\n      <td>ROBERT</td>\n      <td>WILLIAM</td>\n      <td>BRIAN</td>\n      <td>MATTHEW</td>\n    </tr>\n    <tr>\n      <th>4</th>\n      <td>1960</td>\n      <td>MICHAEL</td>\n      <td>JAMES</td>\n      <td>DAVID</td>\n      <td>JOHN</td>\n      <td>ROBERT</td>\n      <td>WILLIAM</td>\n      <td>MARK</td>\n      <td>JEFFREY</td>\n      <td>RICHARD</td>\n      <td>TIMOTHY</td>\n    </tr>\n    <tr>\n      <th>5</th>\n      <td>1950</td>\n      <td>JAMES</td>\n      <td>MICHAEL</td>\n      <td>ROBERT</td>\n      <td>DAVID</td>\n      <td>JOHN</td>\n      <td>WILLIAM</td>\n      <td>RICHARD</td>\n      <td>THOMAS</td>\n      <td>CHARLES</td>\n      <td>MARK</td>\n    </tr>\n    <tr>\n      <th>6</th>\n      <td>1940</td>\n      <td>JAMES</td>\n      <td>ROBERT</td>\n      <td>WILLIAM</td>\n      <td>JOHN</td>\n      <td>DAVID</td>\n      <td>CHARLES</td>\n      <td>RICHARD</td>\n      <td>THOMAS</td>\n      <td>MICHAEL</td>\n      <td>LARRY</td>\n    </tr>\n    <tr>\n      <th>7</th>\n      <td>1930</td>\n      <td>JAMES</td>\n      <td>ROBERT</td>\n      <td>WILLIAM</td>\n      <td>JOHN</td>\n      <td>CHARLES</td>\n      <td>RICHARD</td>\n      <td>DONALD</td>\n      <td>THOMAS</td>\n      <td>DAVID</td>\n      <td>GEORGE</td>\n    </tr>\n    <tr>\n      <th>8</th>\n      <td>1920</td>\n      <td>WILLIAM</td>\n      <td>JAMES</td>\n      <td>JOHN</td>\n      <td>ROBERT</td>\n      <td>CHARLES</td>\n      <td>GEORGE</td>\n      <td>THOMAS</td>\n      <td>RICHARD</td>\n      <td>JOSEPH</td>\n      <td>DONALD</td>\n    </tr>\n    <tr>\n      <th>9</th>\n      <td>1910</td>\n      <td>JOHN</td>\n      <td>WILLIAM</td>\n      <td>JAMES</td>\n      <td>ROBERT</td>\n      <td>CHARLES</td>\n      <td>GEORGE</td>\n      <td>JOSEPH</td>\n      <td>THOMAS</td>\n      <td>PAUL</td>\n      <td>FRANK</td>\n    </tr>\n    <tr>\n      <th>10</th>\n      <td>1900</td>\n      <td>JAMES</td>\n      <td>ROBERT</td>\n      <td>WILLIAM</td>\n      <td>JOHN</td>\n      <td>CHARLES</td>\n      <td>RICHARD</td>\n      <td>GEORGE</td>\n      <td>DAVID</td>\n      <td>JOSEPH</td>\n      <td>BILLY</td>\n    </tr>\n  </tbody>\n</table>\n</div>"
     },
     "execution_count": 19,
     "metadata": {},
     "output_type": "execute_result"
    }
   ],
   "source": [
    "query(\"W\",\"M\")"
   ],
   "metadata": {
    "collapsed": false,
    "pycharm": {
     "name": "#%%\n"
    }
   }
  },
  {
   "cell_type": "code",
   "execution_count": 20,
   "outputs": [
    {
     "data": {
      "text/plain": "    decade         1         2         3         4         5          6  \\\n0     2000    HANNAH   MADISON     EMILY     SARAH    TAYLOR     LAUREN   \n1     1990     SARAH     EMILY   JESSICA    ASHLEY    HANNAH   BRITTANY   \n2     1980   JESSICA  JENNIFER    AMANDA    ASHLEY     SARAH  ELIZABETH   \n3     1970  JENNIFER       AMY   MELISSA  KIMBERLY    ANGELA    HEATHER   \n4     1960      LISA  KIMBERLY     SUSAN      MARY     KAREN      DONNA   \n5     1950   DEBORAH     SUSAN      MARY     LINDA  PATRICIA      DEBRA   \n6     1940     LINDA      MARY  PATRICIA   BARBARA     NANCY     BRENDA   \n7     1930      MARY     BETTY   BARBARA   SHIRLEY     NANCY   PATRICIA   \n8     1920      MARY   DOROTHY  MARGARET     BETTY     HELEN       RUTH   \n9     1910      MARY  MARGARET      RUTH     HELEN   DOROTHY  ELIZABETH   \n10    1900      MARY   BARBARA     BETTY     NANCY   FRANCES   MARGARET   \n\n            7          8          9         10  \n0   ELIZABETH       ANNA       EMMA    ABIGAIL  \n1      LAUREN  ELIZABETH     TAYLOR      MEGAN  \n2     HEATHER     LAUREN  STEPHANIE    MELISSA  \n3        LISA   MICHELLE  ELIZABETH  STEPHANIE  \n4   ELIZABETH    CYNTHIA      TAMMY     ANGELA  \n5       KAREN    BARBARA      DONNA      NANCY  \n6      SANDRA      CAROL    CAROLYN      BETTY  \n7    MARGARET    DOROTHY      PEGGY      DORIS  \n8       DORIS    FRANCES  ELIZABETH   VIRGINIA  \n9    VIRGINIA    FRANCES       RUBY    MILDRED  \n10    DOROTHY      HELEN     MARTHA      PEGGY  ",
      "text/html": "<div>\n<style scoped>\n    .dataframe tbody tr th:only-of-type {\n        vertical-align: middle;\n    }\n\n    .dataframe tbody tr th {\n        vertical-align: top;\n    }\n\n    .dataframe thead th {\n        text-align: right;\n    }\n</style>\n<table border=\"1\" class=\"dataframe\">\n  <thead>\n    <tr style=\"text-align: right;\">\n      <th></th>\n      <th>decade</th>\n      <th>1</th>\n      <th>2</th>\n      <th>3</th>\n      <th>4</th>\n      <th>5</th>\n      <th>6</th>\n      <th>7</th>\n      <th>8</th>\n      <th>9</th>\n      <th>10</th>\n    </tr>\n  </thead>\n  <tbody>\n    <tr>\n      <th>0</th>\n      <td>2000</td>\n      <td>HANNAH</td>\n      <td>MADISON</td>\n      <td>EMILY</td>\n      <td>SARAH</td>\n      <td>TAYLOR</td>\n      <td>LAUREN</td>\n      <td>ELIZABETH</td>\n      <td>ANNA</td>\n      <td>EMMA</td>\n      <td>ABIGAIL</td>\n    </tr>\n    <tr>\n      <th>1</th>\n      <td>1990</td>\n      <td>SARAH</td>\n      <td>EMILY</td>\n      <td>JESSICA</td>\n      <td>ASHLEY</td>\n      <td>HANNAH</td>\n      <td>BRITTANY</td>\n      <td>LAUREN</td>\n      <td>ELIZABETH</td>\n      <td>TAYLOR</td>\n      <td>MEGAN</td>\n    </tr>\n    <tr>\n      <th>2</th>\n      <td>1980</td>\n      <td>JESSICA</td>\n      <td>JENNIFER</td>\n      <td>AMANDA</td>\n      <td>ASHLEY</td>\n      <td>SARAH</td>\n      <td>ELIZABETH</td>\n      <td>HEATHER</td>\n      <td>LAUREN</td>\n      <td>STEPHANIE</td>\n      <td>MELISSA</td>\n    </tr>\n    <tr>\n      <th>3</th>\n      <td>1970</td>\n      <td>JENNIFER</td>\n      <td>AMY</td>\n      <td>MELISSA</td>\n      <td>KIMBERLY</td>\n      <td>ANGELA</td>\n      <td>HEATHER</td>\n      <td>LISA</td>\n      <td>MICHELLE</td>\n      <td>ELIZABETH</td>\n      <td>STEPHANIE</td>\n    </tr>\n    <tr>\n      <th>4</th>\n      <td>1960</td>\n      <td>LISA</td>\n      <td>KIMBERLY</td>\n      <td>SUSAN</td>\n      <td>MARY</td>\n      <td>KAREN</td>\n      <td>DONNA</td>\n      <td>ELIZABETH</td>\n      <td>CYNTHIA</td>\n      <td>TAMMY</td>\n      <td>ANGELA</td>\n    </tr>\n    <tr>\n      <th>5</th>\n      <td>1950</td>\n      <td>DEBORAH</td>\n      <td>SUSAN</td>\n      <td>MARY</td>\n      <td>LINDA</td>\n      <td>PATRICIA</td>\n      <td>DEBRA</td>\n      <td>KAREN</td>\n      <td>BARBARA</td>\n      <td>DONNA</td>\n      <td>NANCY</td>\n    </tr>\n    <tr>\n      <th>6</th>\n      <td>1940</td>\n      <td>LINDA</td>\n      <td>MARY</td>\n      <td>PATRICIA</td>\n      <td>BARBARA</td>\n      <td>NANCY</td>\n      <td>BRENDA</td>\n      <td>SANDRA</td>\n      <td>CAROL</td>\n      <td>CAROLYN</td>\n      <td>BETTY</td>\n    </tr>\n    <tr>\n      <th>7</th>\n      <td>1930</td>\n      <td>MARY</td>\n      <td>BETTY</td>\n      <td>BARBARA</td>\n      <td>SHIRLEY</td>\n      <td>NANCY</td>\n      <td>PATRICIA</td>\n      <td>MARGARET</td>\n      <td>DOROTHY</td>\n      <td>PEGGY</td>\n      <td>DORIS</td>\n    </tr>\n    <tr>\n      <th>8</th>\n      <td>1920</td>\n      <td>MARY</td>\n      <td>DOROTHY</td>\n      <td>MARGARET</td>\n      <td>BETTY</td>\n      <td>HELEN</td>\n      <td>RUTH</td>\n      <td>DORIS</td>\n      <td>FRANCES</td>\n      <td>ELIZABETH</td>\n      <td>VIRGINIA</td>\n    </tr>\n    <tr>\n      <th>9</th>\n      <td>1910</td>\n      <td>MARY</td>\n      <td>MARGARET</td>\n      <td>RUTH</td>\n      <td>HELEN</td>\n      <td>DOROTHY</td>\n      <td>ELIZABETH</td>\n      <td>VIRGINIA</td>\n      <td>FRANCES</td>\n      <td>RUBY</td>\n      <td>MILDRED</td>\n    </tr>\n    <tr>\n      <th>10</th>\n      <td>1900</td>\n      <td>MARY</td>\n      <td>BARBARA</td>\n      <td>BETTY</td>\n      <td>NANCY</td>\n      <td>FRANCES</td>\n      <td>MARGARET</td>\n      <td>DOROTHY</td>\n      <td>HELEN</td>\n      <td>MARTHA</td>\n      <td>PEGGY</td>\n    </tr>\n  </tbody>\n</table>\n</div>"
     },
     "execution_count": 20,
     "metadata": {},
     "output_type": "execute_result"
    }
   ],
   "source": [
    "query(\"W\",\"F\")"
   ],
   "metadata": {
    "collapsed": false,
    "pycharm": {
     "name": "#%%\n"
    }
   }
  },
  {
   "cell_type": "code",
   "execution_count": 21,
   "outputs": [
    {
     "data": {
      "text/plain": "    decade            1            2            3        4        5  \\\n0     2000       JOSHUA       ISAIAH      MICHAEL    JALEN   JORDAN   \n1     1990  CHRISTOPHER      MICHAEL       JOSHUA  BRANDON    JAMES   \n2     1980      MICHAEL  CHRISTOPHER      BRANDON    JAMES  ANTHONY   \n3     1970      MICHAEL        JAMES  CHRISTOPHER  ANTHONY  WILLIAM   \n4     1960        JAMES      MICHAEL      ANTHONY   ROBERT  WILLIAM   \n5     1950        JAMES      WILLIAM      MICHAEL    LARRY   ROBERT   \n6     1940        JAMES      WILLIAM         JOHN   ROBERT   WILLIE   \n7     1930        JAMES      WILLIAM         JOHN   ROBERT   WILLIE   \n8     1920        JAMES         JOHN      WILLIAM   WILLIE   ROBERT   \n9     1910        JAMES         JOHN      WILLIAM   ROBERT   JOSEPH   \n10    1900        JAMES      WILLIAM         JOHN   WILLIE   ROBERT   \n\n              6        7         8        9         10  \n0   CHRISTOPHER   ELIJAH     JAMES  CAMERON  CHRISTIAN  \n1       ANTHONY   JUSTIN   WILLIAM   JORDAN     MARCUS  \n2        MARCUS  WILLIAM    ROBERT    DAVID    ANTONIO  \n3        ROBERT    KEVIN      ERIC    DAVID       JOHN  \n4          JOHN  KENNETH     DAVID  CHARLES    GREGORY  \n5          JOHN  CHARLES    WILLIE    DAVID     RONALD  \n6       CHARLES   GEORGE    THOMAS    DAVID     JOSEPH  \n7       CHARLES   GEORGE    JOSEPH   THOMAS      DAVID  \n8        GEORGE  CHARLES    JOSEPH   THOMAS     WALTER  \n9        WILLIE   WALTER    GEORGE  CHARLIE      DAVID  \n10      CHARLES    DAVID  BENJAMIN   THOMAS       CARL  ",
      "text/html": "<div>\n<style scoped>\n    .dataframe tbody tr th:only-of-type {\n        vertical-align: middle;\n    }\n\n    .dataframe tbody tr th {\n        vertical-align: top;\n    }\n\n    .dataframe thead th {\n        text-align: right;\n    }\n</style>\n<table border=\"1\" class=\"dataframe\">\n  <thead>\n    <tr style=\"text-align: right;\">\n      <th></th>\n      <th>decade</th>\n      <th>1</th>\n      <th>2</th>\n      <th>3</th>\n      <th>4</th>\n      <th>5</th>\n      <th>6</th>\n      <th>7</th>\n      <th>8</th>\n      <th>9</th>\n      <th>10</th>\n    </tr>\n  </thead>\n  <tbody>\n    <tr>\n      <th>0</th>\n      <td>2000</td>\n      <td>JOSHUA</td>\n      <td>ISAIAH</td>\n      <td>MICHAEL</td>\n      <td>JALEN</td>\n      <td>JORDAN</td>\n      <td>CHRISTOPHER</td>\n      <td>ELIJAH</td>\n      <td>JAMES</td>\n      <td>CAMERON</td>\n      <td>CHRISTIAN</td>\n    </tr>\n    <tr>\n      <th>1</th>\n      <td>1990</td>\n      <td>CHRISTOPHER</td>\n      <td>MICHAEL</td>\n      <td>JOSHUA</td>\n      <td>BRANDON</td>\n      <td>JAMES</td>\n      <td>ANTHONY</td>\n      <td>JUSTIN</td>\n      <td>WILLIAM</td>\n      <td>JORDAN</td>\n      <td>MARCUS</td>\n    </tr>\n    <tr>\n      <th>2</th>\n      <td>1980</td>\n      <td>MICHAEL</td>\n      <td>CHRISTOPHER</td>\n      <td>BRANDON</td>\n      <td>JAMES</td>\n      <td>ANTHONY</td>\n      <td>MARCUS</td>\n      <td>WILLIAM</td>\n      <td>ROBERT</td>\n      <td>DAVID</td>\n      <td>ANTONIO</td>\n    </tr>\n    <tr>\n      <th>3</th>\n      <td>1970</td>\n      <td>MICHAEL</td>\n      <td>JAMES</td>\n      <td>CHRISTOPHER</td>\n      <td>ANTHONY</td>\n      <td>WILLIAM</td>\n      <td>ROBERT</td>\n      <td>KEVIN</td>\n      <td>ERIC</td>\n      <td>DAVID</td>\n      <td>JOHN</td>\n    </tr>\n    <tr>\n      <th>4</th>\n      <td>1960</td>\n      <td>JAMES</td>\n      <td>MICHAEL</td>\n      <td>ANTHONY</td>\n      <td>ROBERT</td>\n      <td>WILLIAM</td>\n      <td>JOHN</td>\n      <td>KENNETH</td>\n      <td>DAVID</td>\n      <td>CHARLES</td>\n      <td>GREGORY</td>\n    </tr>\n    <tr>\n      <th>5</th>\n      <td>1950</td>\n      <td>JAMES</td>\n      <td>WILLIAM</td>\n      <td>MICHAEL</td>\n      <td>LARRY</td>\n      <td>ROBERT</td>\n      <td>JOHN</td>\n      <td>CHARLES</td>\n      <td>WILLIE</td>\n      <td>DAVID</td>\n      <td>RONALD</td>\n    </tr>\n    <tr>\n      <th>6</th>\n      <td>1940</td>\n      <td>JAMES</td>\n      <td>WILLIAM</td>\n      <td>JOHN</td>\n      <td>ROBERT</td>\n      <td>WILLIE</td>\n      <td>CHARLES</td>\n      <td>GEORGE</td>\n      <td>THOMAS</td>\n      <td>DAVID</td>\n      <td>JOSEPH</td>\n    </tr>\n    <tr>\n      <th>7</th>\n      <td>1930</td>\n      <td>JAMES</td>\n      <td>WILLIAM</td>\n      <td>JOHN</td>\n      <td>ROBERT</td>\n      <td>WILLIE</td>\n      <td>CHARLES</td>\n      <td>GEORGE</td>\n      <td>JOSEPH</td>\n      <td>THOMAS</td>\n      <td>DAVID</td>\n    </tr>\n    <tr>\n      <th>8</th>\n      <td>1920</td>\n      <td>JAMES</td>\n      <td>JOHN</td>\n      <td>WILLIAM</td>\n      <td>WILLIE</td>\n      <td>ROBERT</td>\n      <td>GEORGE</td>\n      <td>CHARLES</td>\n      <td>JOSEPH</td>\n      <td>THOMAS</td>\n      <td>WALTER</td>\n    </tr>\n    <tr>\n      <th>9</th>\n      <td>1910</td>\n      <td>JAMES</td>\n      <td>JOHN</td>\n      <td>WILLIAM</td>\n      <td>ROBERT</td>\n      <td>JOSEPH</td>\n      <td>WILLIE</td>\n      <td>WALTER</td>\n      <td>GEORGE</td>\n      <td>CHARLIE</td>\n      <td>DAVID</td>\n    </tr>\n    <tr>\n      <th>10</th>\n      <td>1900</td>\n      <td>JAMES</td>\n      <td>WILLIAM</td>\n      <td>JOHN</td>\n      <td>WILLIE</td>\n      <td>ROBERT</td>\n      <td>CHARLES</td>\n      <td>DAVID</td>\n      <td>BENJAMIN</td>\n      <td>THOMAS</td>\n      <td>CARL</td>\n    </tr>\n  </tbody>\n</table>\n</div>"
     },
     "execution_count": 21,
     "metadata": {},
     "output_type": "execute_result"
    }
   ],
   "source": [
    "query(\"B\",\"M\")"
   ],
   "metadata": {
    "collapsed": false,
    "pycharm": {
     "name": "#%%\n"
    }
   }
  },
  {
   "cell_type": "code",
   "execution_count": 22,
   "outputs": [
    {
     "data": {
      "text/plain": "    decade        1         2          3        4         5          6  \\\n0     2000  DESTINY     KAYLA       JADA  JASMINE    ALEXIS    BRIANNA   \n1     1990  JASMINE  BRITTANY     ASHLEY   ALEXIS   JESSICA    BRIANNA   \n2     1980  TIFFANY    ASHLEY    JESSICA   LATOYA   CRYSTAL   BRITTANY   \n3     1970   ANGELA  KIMBERLY      TONYA   NICOLE   TIFFANY  STEPHANIE   \n4     1960   ANGELA    SHARON       LISA  CYNTHIA    PAMELA       MARY   \n5     1950     MARY     LINDA   PATRICIA   BRENDA   BARBARA    DEBORAH   \n6     1940     MARY   BARBARA      ANNIE    BETTY   SHIRLEY    DOROTHY   \n7     1930     MARY     ANNIE    DOROTHY  SHIRLEY     BETTY   MARGARET   \n8     1920     MARY     ANNIE    DOROTHY     RUTH  MARGARET      HELEN   \n9     1910     MARY     ANNIE  ELIZABETH   LILLIE      RUTH      SARAH   \n10    1900     MARY   DOROTHY      BETTY  FRANCES    EVELYN   MARGARET   \n\n             7         8        9        10  \n0       TAYLOR   DIAMOND  MAKAYLA    JORDAN  \n1        KAYLA   DESTINY   BRIANA  COURTNEY  \n2     KIMBERLY   JASMINE    ERICA     EBONY  \n3     MICHELLE   CRYSTAL  YOLANDA   FELICIA  \n4   JACQUELINE  PATRICIA    LINDA    SANDRA  \n5      CAROLYN   SHIRLEY  CYNTHIA    GLORIA  \n6      CAROLYN  PATRICIA    LINDA    BRENDA  \n7      BARBARA     DORIS    HELEN     SARAH  \n8    ELIZABETH    LILLIE  MILDRED    LOUISE  \n9         ROSA     ALICE    ETHEL  MARGARET  \n10     BARBARA      RUBY  SHIRLEY     ALICE  ",
      "text/html": "<div>\n<style scoped>\n    .dataframe tbody tr th:only-of-type {\n        vertical-align: middle;\n    }\n\n    .dataframe tbody tr th {\n        vertical-align: top;\n    }\n\n    .dataframe thead th {\n        text-align: right;\n    }\n</style>\n<table border=\"1\" class=\"dataframe\">\n  <thead>\n    <tr style=\"text-align: right;\">\n      <th></th>\n      <th>decade</th>\n      <th>1</th>\n      <th>2</th>\n      <th>3</th>\n      <th>4</th>\n      <th>5</th>\n      <th>6</th>\n      <th>7</th>\n      <th>8</th>\n      <th>9</th>\n      <th>10</th>\n    </tr>\n  </thead>\n  <tbody>\n    <tr>\n      <th>0</th>\n      <td>2000</td>\n      <td>DESTINY</td>\n      <td>KAYLA</td>\n      <td>JADA</td>\n      <td>JASMINE</td>\n      <td>ALEXIS</td>\n      <td>BRIANNA</td>\n      <td>TAYLOR</td>\n      <td>DIAMOND</td>\n      <td>MAKAYLA</td>\n      <td>JORDAN</td>\n    </tr>\n    <tr>\n      <th>1</th>\n      <td>1990</td>\n      <td>JASMINE</td>\n      <td>BRITTANY</td>\n      <td>ASHLEY</td>\n      <td>ALEXIS</td>\n      <td>JESSICA</td>\n      <td>BRIANNA</td>\n      <td>KAYLA</td>\n      <td>DESTINY</td>\n      <td>BRIANA</td>\n      <td>COURTNEY</td>\n    </tr>\n    <tr>\n      <th>2</th>\n      <td>1980</td>\n      <td>TIFFANY</td>\n      <td>ASHLEY</td>\n      <td>JESSICA</td>\n      <td>LATOYA</td>\n      <td>CRYSTAL</td>\n      <td>BRITTANY</td>\n      <td>KIMBERLY</td>\n      <td>JASMINE</td>\n      <td>ERICA</td>\n      <td>EBONY</td>\n    </tr>\n    <tr>\n      <th>3</th>\n      <td>1970</td>\n      <td>ANGELA</td>\n      <td>KIMBERLY</td>\n      <td>TONYA</td>\n      <td>NICOLE</td>\n      <td>TIFFANY</td>\n      <td>STEPHANIE</td>\n      <td>MICHELLE</td>\n      <td>CRYSTAL</td>\n      <td>YOLANDA</td>\n      <td>FELICIA</td>\n    </tr>\n    <tr>\n      <th>4</th>\n      <td>1960</td>\n      <td>ANGELA</td>\n      <td>SHARON</td>\n      <td>LISA</td>\n      <td>CYNTHIA</td>\n      <td>PAMELA</td>\n      <td>MARY</td>\n      <td>JACQUELINE</td>\n      <td>PATRICIA</td>\n      <td>LINDA</td>\n      <td>SANDRA</td>\n    </tr>\n    <tr>\n      <th>5</th>\n      <td>1950</td>\n      <td>MARY</td>\n      <td>LINDA</td>\n      <td>PATRICIA</td>\n      <td>BRENDA</td>\n      <td>BARBARA</td>\n      <td>DEBORAH</td>\n      <td>CAROLYN</td>\n      <td>SHIRLEY</td>\n      <td>CYNTHIA</td>\n      <td>GLORIA</td>\n    </tr>\n    <tr>\n      <th>6</th>\n      <td>1940</td>\n      <td>MARY</td>\n      <td>BARBARA</td>\n      <td>ANNIE</td>\n      <td>BETTY</td>\n      <td>SHIRLEY</td>\n      <td>DOROTHY</td>\n      <td>CAROLYN</td>\n      <td>PATRICIA</td>\n      <td>LINDA</td>\n      <td>BRENDA</td>\n    </tr>\n    <tr>\n      <th>7</th>\n      <td>1930</td>\n      <td>MARY</td>\n      <td>ANNIE</td>\n      <td>DOROTHY</td>\n      <td>SHIRLEY</td>\n      <td>BETTY</td>\n      <td>MARGARET</td>\n      <td>BARBARA</td>\n      <td>DORIS</td>\n      <td>HELEN</td>\n      <td>SARAH</td>\n    </tr>\n    <tr>\n      <th>8</th>\n      <td>1920</td>\n      <td>MARY</td>\n      <td>ANNIE</td>\n      <td>DOROTHY</td>\n      <td>RUTH</td>\n      <td>MARGARET</td>\n      <td>HELEN</td>\n      <td>ELIZABETH</td>\n      <td>LILLIE</td>\n      <td>MILDRED</td>\n      <td>LOUISE</td>\n    </tr>\n    <tr>\n      <th>9</th>\n      <td>1910</td>\n      <td>MARY</td>\n      <td>ANNIE</td>\n      <td>ELIZABETH</td>\n      <td>LILLIE</td>\n      <td>RUTH</td>\n      <td>SARAH</td>\n      <td>ROSA</td>\n      <td>ALICE</td>\n      <td>ETHEL</td>\n      <td>MARGARET</td>\n    </tr>\n    <tr>\n      <th>10</th>\n      <td>1900</td>\n      <td>MARY</td>\n      <td>DOROTHY</td>\n      <td>BETTY</td>\n      <td>FRANCES</td>\n      <td>EVELYN</td>\n      <td>MARGARET</td>\n      <td>BARBARA</td>\n      <td>RUBY</td>\n      <td>SHIRLEY</td>\n      <td>ALICE</td>\n    </tr>\n  </tbody>\n</table>\n</div>"
     },
     "execution_count": 22,
     "metadata": {},
     "output_type": "execute_result"
    }
   ],
   "source": [
    "query(\"B\",\"F\")"
   ],
   "metadata": {
    "collapsed": false,
    "pycharm": {
     "name": "#%%\n"
    }
   }
  }
 ],
 "metadata": {
  "kernelspec": {
   "display_name": "Python 3",
   "language": "python",
   "name": "python3"
  },
  "language_info": {
   "codemirror_mode": {
    "name": "ipython",
    "version": 3
   },
   "file_extension": ".py",
   "mimetype": "text/x-python",
   "name": "python",
   "nbconvert_exporter": "python",
   "pygments_lexer": "ipython3",
   "version": "3.7.3"
  }
 },
 "nbformat": 4,
 "nbformat_minor": 2
}