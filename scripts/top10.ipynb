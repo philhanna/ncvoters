{
 "cells": [
  {
   "cell_type": "markdown",
   "source": [
    "# Most popular names in North Carolina by decade\n",
    "Source: My analysis of data from [NC voter registrations](https://www.ncsbe.gov/results-data/voter-registration-data)"
   ],
   "metadata": {
    "collapsed": false,
    "pycharm": {
     "name": "#%% md\n"
    }
   }
  },
  {
   "cell_type": "code",
   "execution_count": 43,
   "outputs": [],
   "source": [
    "# Get the name of the database file and make it read-only\n",
    "from pathlib import Path\n",
    "\n",
    "dbfile = Path(\"~/ncvoters.db\").expanduser()\n",
    "uri = \"file:\" + str(dbfile) + \"?mode=ro\""
   ],
   "metadata": {
    "collapsed": false,
    "pycharm": {
     "name": "#%%\n"
    }
   }
  },
  {
   "cell_type": "markdown",
   "source": [
    "SQL query to be used:"
   ],
   "metadata": {
    "collapsed": false,
    "pycharm": {
     "name": "#%% md\n"
    }
   }
  },
  {
   "cell_type": "code",
   "execution_count": 44,
   "outputs": [],
   "source": [
    "query_sql = \"\"\"\n",
    "    SELECT      DISTINCT first_name, COUNT(first_name) as number\n",
    "    FROM        voters\n",
    "    WHERE       race_code = ?\n",
    "    AND         gender_code = ?\n",
    "    AND         birth_year BETWEEN ? AND ?\n",
    "    GROUP BY    first_name\n",
    "    ORDER BY    2 DESC\n",
    "    LIMIT       10\n",
    "\"\"\"\n",
    "\n",
    "def query(race_code, gender_code):\n",
    "    import sqlite3\n",
    "\n",
    "    with sqlite3.connect(uri) as con:\n",
    "        c = con.cursor()\n",
    "        for year in range(2000, 1900-1, -10):\n",
    "            end_year = year + 10-1\n",
    "            c.execute(query_sql, (race_code, gender_code, year, end_year))\n",
    "            outrow = [year]\n",
    "            for i, row in enumerate(c.fetchall()):\n",
    "                outrow.append(row[0])\n",
    "            yield outrow"
   ],
   "metadata": {
    "collapsed": false,
    "pycharm": {
     "name": "#%%\n"
    }
   }
  },
  {
   "cell_type": "markdown",
   "source": [
    "### White men"
   ],
   "metadata": {
    "collapsed": false,
    "pycharm": {
     "name": "#%% md\n"
    }
   }
  },
  {
   "cell_type": "code",
   "execution_count": 45,
   "outputs": [
    {
     "name": "stdout",
     "output_type": "stream",
     "text": [
      "[2000, 'JACOB', 'WILLIAM', 'MATTHEW', 'JOSHUA', 'ANDREW', 'MICHAEL', 'JOHN', 'ETHAN', 'JAMES', 'NICHOLAS']\n",
      "[1990, 'MATTHEW', 'MICHAEL', 'WILLIAM', 'JOSHUA', 'CHRISTOPHER', 'JACOB', 'JOHN', 'ANDREW', 'JAMES', 'ZACHARY']\n",
      "[1980, 'MICHAEL', 'CHRISTOPHER', 'MATTHEW', 'JOSHUA', 'JAMES', 'DAVID', 'JOHN', 'WILLIAM', 'DANIEL', 'ROBERT']\n",
      "[1970, 'MICHAEL', 'CHRISTOPHER', 'JAMES', 'DAVID', 'JASON', 'JOHN', 'ROBERT', 'WILLIAM', 'BRIAN', 'MATTHEW']\n",
      "[1960, 'MICHAEL', 'JAMES', 'DAVID', 'JOHN', 'ROBERT', 'WILLIAM', 'MARK', 'JEFFREY', 'RICHARD', 'TIMOTHY']\n",
      "[1950, 'JAMES', 'MICHAEL', 'ROBERT', 'JOHN', 'DAVID', 'WILLIAM', 'RICHARD', 'THOMAS', 'CHARLES', 'MARK']\n",
      "[1940, 'JAMES', 'ROBERT', 'WILLIAM', 'JOHN', 'DAVID', 'CHARLES', 'RICHARD', 'THOMAS', 'MICHAEL', 'LARRY']\n",
      "[1930, 'JAMES', 'ROBERT', 'WILLIAM', 'JOHN', 'CHARLES', 'RICHARD', 'DONALD', 'THOMAS', 'DAVID', 'GEORGE']\n",
      "[1920, 'WILLIAM', 'JAMES', 'JOHN', 'ROBERT', 'CHARLES', 'GEORGE', 'THOMAS', 'RICHARD', 'JOSEPH', 'DONALD']\n",
      "[1910, 'JOHN', 'WILLIAM', 'JAMES', 'ROBERT', 'GEORGE', 'CHARLES', 'JOSEPH', 'THOMAS', 'PAUL', 'FRANK']\n",
      "[1900, 'JAMES', 'WILLIAM', 'ROBERT', 'JOHN', 'CHARLES', 'RICHARD', 'GEORGE', 'DAVID', 'JOSEPH', 'THOMAS']\n"
     ]
    }
   ],
   "source": [
    "for row in query(\"W\", \"M\"):\n",
    "    print(row)"
   ],
   "metadata": {
    "collapsed": false,
    "pycharm": {
     "name": "#%%\n"
    }
   }
  },
  {
   "cell_type": "markdown",
   "source": [
    "### White women"
   ],
   "metadata": {
    "collapsed": false,
    "pycharm": {
     "name": "#%% md\n"
    }
   }
  },
  {
   "cell_type": "code",
   "execution_count": 46,
   "outputs": [
    {
     "name": "stdout",
     "output_type": "stream",
     "text": [
      "[2000, 'HANNAH', 'MADISON', 'EMILY', 'EMMA', 'SARAH', 'ABIGAIL', 'ANNA', 'ELIZABETH', 'OLIVIA', 'LAUREN']\n",
      "[1990, 'SARAH', 'EMILY', 'JESSICA', 'ASHLEY', 'HANNAH', 'BRITTANY', 'LAUREN', 'ELIZABETH', 'TAYLOR', 'MEGAN']\n",
      "[1980, 'JESSICA', 'JENNIFER', 'AMANDA', 'ASHLEY', 'SARAH', 'ELIZABETH', 'HEATHER', 'LAUREN', 'STEPHANIE', 'MELISSA']\n",
      "[1970, 'JENNIFER', 'AMY', 'MELISSA', 'KIMBERLY', 'ANGELA', 'HEATHER', 'LISA', 'MICHELLE', 'ELIZABETH', 'STEPHANIE']\n",
      "[1960, 'LISA', 'KIMBERLY', 'SUSAN', 'MARY', 'KAREN', 'DONNA', 'ELIZABETH', 'CYNTHIA', 'TAMMY', 'ANGELA']\n",
      "[1950, 'DEBORAH', 'SUSAN', 'MARY', 'LINDA', 'PATRICIA', 'DEBRA', 'KAREN', 'BARBARA', 'DONNA', 'NANCY']\n",
      "[1940, 'LINDA', 'MARY', 'PATRICIA', 'BARBARA', 'NANCY', 'BRENDA', 'SANDRA', 'CAROL', 'CAROLYN', 'BETTY']\n",
      "[1930, 'MARY', 'BETTY', 'BARBARA', 'SHIRLEY', 'NANCY', 'PATRICIA', 'MARGARET', 'DOROTHY', 'PEGGY', 'DORIS']\n",
      "[1920, 'MARY', 'DOROTHY', 'MARGARET', 'BETTY', 'HELEN', 'RUTH', 'DORIS', 'FRANCES', 'ELIZABETH', 'VIRGINIA']\n",
      "[1910, 'MARY', 'MARGARET', 'RUTH', 'HELEN', 'DOROTHY', 'ELIZABETH', 'VIRGINIA', 'FRANCES', 'RUBY', 'MILDRED']\n",
      "[1900, 'MARY', 'BARBARA', 'NANCY', 'BETTY', 'MARGARET', 'FRANCES', 'HELEN', 'DOROTHY', 'PEGGY', 'MARTHA']\n"
     ]
    }
   ],
   "source": [
    "for row in query(\"W\", \"F\"):\n",
    "    print(row)"
   ],
   "metadata": {
    "collapsed": false,
    "pycharm": {
     "name": "#%%\n"
    }
   }
  },
  {
   "cell_type": "markdown",
   "source": [
    "### Black men"
   ],
   "metadata": {
    "collapsed": false,
    "pycharm": {
     "name": "#%% md\n"
    }
   }
  },
  {
   "cell_type": "code",
   "execution_count": 47,
   "outputs": [
    {
     "name": "stdout",
     "output_type": "stream",
     "text": [
      "[2000, 'JOSHUA', 'ISAIAH', 'JORDAN', 'CHRISTOPHER', 'ELIJAH', 'JALEN', 'MICHAEL', 'CAMERON', 'JUSTIN', 'CHRISTIAN']\n",
      "[1990, 'CHRISTOPHER', 'MICHAEL', 'JOSHUA', 'BRANDON', 'JAMES', 'ANTHONY', 'JUSTIN', 'WILLIAM', 'JORDAN', 'MARCUS']\n",
      "[1980, 'MICHAEL', 'CHRISTOPHER', 'BRANDON', 'JAMES', 'ANTHONY', 'WILLIAM', 'MARCUS', 'ROBERT', 'DAVID', 'ANTONIO']\n",
      "[1970, 'MICHAEL', 'JAMES', 'CHRISTOPHER', 'ANTHONY', 'WILLIAM', 'ROBERT', 'KEVIN', 'ERIC', 'DAVID', 'JOHN']\n",
      "[1960, 'JAMES', 'MICHAEL', 'ANTHONY', 'WILLIAM', 'ROBERT', 'JOHN', 'KENNETH', 'DAVID', 'CHARLES', 'GREGORY']\n",
      "[1950, 'JAMES', 'WILLIAM', 'MICHAEL', 'LARRY', 'ROBERT', 'JOHN', 'CHARLES', 'WILLIE', 'DAVID', 'RONALD']\n",
      "[1940, 'JAMES', 'WILLIAM', 'JOHN', 'ROBERT', 'WILLIE', 'CHARLES', 'GEORGE', 'THOMAS', 'DAVID', 'JOSEPH']\n",
      "[1930, 'JAMES', 'WILLIAM', 'JOHN', 'ROBERT', 'WILLIE', 'CHARLES', 'GEORGE', 'JOSEPH', 'THOMAS', 'DAVID']\n",
      "[1920, 'JAMES', 'JOHN', 'WILLIAM', 'WILLIE', 'ROBERT', 'GEORGE', 'CHARLES', 'JOSEPH', 'THOMAS', 'WALTER']\n",
      "[1910, 'JOHN', 'JAMES', 'WILLIAM', 'ROBERT', 'WILLIE', 'JOSEPH', 'WALTER', 'GEORGE', 'EDWARD', 'DAVID']\n",
      "[1900, 'JAMES', 'WILLIAM', 'JOHN', 'WILLIE', 'ROBERT', 'DAVID', 'CHARLES', 'THOMAS', 'BENJAMIN', 'MICHAEL']\n"
     ]
    }
   ],
   "source": [
    "for row in query(\"B\", \"M\"):\n",
    "    print(row)"
   ],
   "metadata": {
    "collapsed": false,
    "pycharm": {
     "name": "#%%\n"
    }
   }
  },
  {
   "cell_type": "markdown",
   "source": [
    "### Black women"
   ],
   "metadata": {
    "collapsed": false,
    "pycharm": {
     "name": "#%% md\n"
    }
   }
  },
  {
   "cell_type": "code",
   "execution_count": 48,
   "outputs": [
    {
     "name": "stdout",
     "output_type": "stream",
     "text": [
      "[2000, 'DESTINY', 'JADA', 'KAYLA', 'JASMINE', 'ALEXIS', 'BRIANNA', 'MAKAYLA', 'AALIYAH', 'TRINITY', 'TAYLOR']\n",
      "[1990, 'JASMINE', 'BRITTANY', 'ASHLEY', 'ALEXIS', 'JESSICA', 'BRIANNA', 'KAYLA', 'DESTINY', 'BRIANA', 'COURTNEY']\n",
      "[1980, 'TIFFANY', 'ASHLEY', 'JESSICA', 'LATOYA', 'CRYSTAL', 'BRITTANY', 'KIMBERLY', 'JASMINE', 'ERICA', 'EBONY']\n",
      "[1970, 'ANGELA', 'KIMBERLY', 'TONYA', 'NICOLE', 'TIFFANY', 'STEPHANIE', 'MICHELLE', 'CRYSTAL', 'YOLANDA', 'FELICIA']\n",
      "[1960, 'ANGELA', 'SHARON', 'LISA', 'CYNTHIA', 'PAMELA', 'MARY', 'JACQUELINE', 'PATRICIA', 'LINDA', 'SANDRA']\n",
      "[1950, 'MARY', 'LINDA', 'PATRICIA', 'BRENDA', 'BARBARA', 'DEBORAH', 'CAROLYN', 'SHIRLEY', 'CYNTHIA', 'GLORIA']\n",
      "[1940, 'MARY', 'BARBARA', 'ANNIE', 'BETTY', 'SHIRLEY', 'DOROTHY', 'CAROLYN', 'PATRICIA', 'LINDA', 'BRENDA']\n",
      "[1930, 'MARY', 'ANNIE', 'DOROTHY', 'SHIRLEY', 'BETTY', 'MARGARET', 'BARBARA', 'DORIS', 'HELEN', 'SARAH']\n",
      "[1920, 'MARY', 'ANNIE', 'DOROTHY', 'RUTH', 'MARGARET', 'HELEN', 'ELIZABETH', 'LILLIE', 'MILDRED', 'LOUISE']\n",
      "[1910, 'MARY', 'ANNIE', 'ELIZABETH', 'SARAH', 'RUTH', 'LILLIE', 'ROSA', 'MINNIE', 'MARGARET', 'ETHEL']\n",
      "[1900, 'MARY', 'DOROTHY', 'FRANCES', 'BETTY', 'EVELYN', 'MARGARET', 'SHIRLEY', 'RUBY', 'BARBARA', 'ROSA']\n"
     ]
    }
   ],
   "source": [
    "for row in query(\"B\", \"F\"):\n",
    "    print(row)"
   ],
   "metadata": {
    "collapsed": false,
    "pycharm": {
     "name": "#%%\n"
    }
   }
  }
 ],
 "metadata": {
  "kernelspec": {
   "display_name": "Python 3",
   "language": "python",
   "name": "python3"
  },
  "language_info": {
   "codemirror_mode": {
    "name": "ipython",
    "version": 2
   },
   "file_extension": ".py",
   "mimetype": "text/x-python",
   "name": "python",
   "nbconvert_exporter": "python",
   "pygments_lexer": "ipython2",
   "version": "2.7.6"
  }
 },
 "nbformat": 4,
 "nbformat_minor": 0
}