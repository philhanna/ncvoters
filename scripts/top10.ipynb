{
 "cells": [
  {
   "cell_type": "markdown",
   "source": [
    "# Most popular names in North Carolina by decade\n",
    "Source: My analysis of data from [NC voter registrations](https://www.ncsbe.gov/results-data/voter-registration-data)"
   ],
   "metadata": {
    "collapsed": false,
    "pycharm": {
     "name": "#%% md\n"
    }
   }
  },
  {
   "cell_type": "code",
   "execution_count": 10,
   "outputs": [],
   "source": [
    "# Get the name of the database file and make it read-only\n",
    "from pathlib import Path\n",
    "\n",
    "dbfile = Path(\"~/ncvoters.db\").expanduser()\n",
    "uri = \"file:\" + str(dbfile) + \"?mode=ro\""
   ],
   "metadata": {
    "collapsed": false,
    "pycharm": {
     "name": "#%%\n"
    }
   }
  },
  {
   "cell_type": "markdown",
   "source": [
    "### White men"
   ],
   "metadata": {
    "collapsed": false,
    "pycharm": {
     "name": "#%% md\n"
    }
   }
  },
  {
   "cell_type": "code",
   "execution_count": 11,
   "outputs": [
    {
     "name": "stdout",
     "output_type": "stream",
     "text": [
      "[2000, 'JACOB', 'WILLIAM', 'MATTHEW', 'JOSHUA', 'ANDREW', 'MICHAEL', 'JOHN', 'ETHAN', 'JAMES', 'NICHOLAS']\n",
      "[1990, 'MATTHEW', 'MICHAEL', 'WILLIAM', 'JOSHUA', 'CHRISTOPHER', 'JACOB', 'JOHN', 'ANDREW', 'JAMES', 'ZACHARY']\n",
      "[1980, 'MICHAEL', 'CHRISTOPHER', 'MATTHEW', 'JOSHUA', 'JAMES', 'DAVID', 'JOHN', 'WILLIAM', 'DANIEL', 'ROBERT']\n",
      "[1970, 'MICHAEL', 'CHRISTOPHER', 'JAMES', 'DAVID', 'JASON', 'JOHN', 'ROBERT', 'WILLIAM', 'BRIAN', 'MATTHEW']\n",
      "[1960, 'MICHAEL', 'JAMES', 'DAVID', 'JOHN', 'ROBERT', 'WILLIAM', 'MARK', 'JEFFREY', 'RICHARD', 'TIMOTHY']\n",
      "[1950, 'JAMES', 'MICHAEL', 'ROBERT', 'JOHN', 'DAVID', 'WILLIAM', 'RICHARD', 'THOMAS', 'CHARLES', 'MARK']\n",
      "[1940, 'JAMES', 'ROBERT', 'WILLIAM', 'JOHN', 'DAVID', 'CHARLES', 'RICHARD', 'THOMAS', 'MICHAEL', 'LARRY']\n",
      "[1930, 'JAMES', 'ROBERT', 'WILLIAM', 'JOHN', 'CHARLES', 'RICHARD', 'DONALD', 'THOMAS', 'DAVID', 'GEORGE']\n",
      "[1920, 'WILLIAM', 'JAMES', 'JOHN', 'ROBERT', 'CHARLES', 'GEORGE', 'THOMAS', 'RICHARD', 'JOSEPH', 'DONALD']\n",
      "[1910, 'JOHN', 'WILLIAM', 'JAMES', 'ROBERT', 'GEORGE', 'CHARLES', 'JOSEPH', 'THOMAS', 'PAUL', 'FRANK']\n",
      "[1900, 'JAMES', 'WILLIAM', 'ROBERT', 'JOHN', 'CHARLES', 'RICHARD', 'GEORGE', 'DAVID', 'JOSEPH', 'THOMAS']\n"
     ]
    }
   ],
   "source": [
    "import sqlite3\n",
    "\n",
    "with sqlite3.connect(uri) as con:\n",
    "    c = con.cursor()\n",
    "    for year in range(2000, 1899, -10):\n",
    "        end_year = year + 9\n",
    "        c.execute(\"\"\"\n",
    "            SELECT      DISTINCT first_name, COUNT(first_name) as number\n",
    "            FROM        voters\n",
    "            WHERE       race_code = \"W\"\n",
    "            AND         gender_code = \"M\"\n",
    "            AND         birth_year BETWEEN ? AND ?\n",
    "            GROUP BY    first_name\n",
    "            ORDER BY    2 DESC\n",
    "            LIMIT       10\n",
    "        \"\"\", (year, end_year))\n",
    "        outrow = [year]\n",
    "        for i, row in enumerate(c.fetchall()):\n",
    "            outrow.append(row[0])\n",
    "        print(outrow)"
   ],
   "metadata": {
    "collapsed": false,
    "pycharm": {
     "name": "#%%\n"
    }
   }
  }
 ],
 "metadata": {
  "kernelspec": {
   "display_name": "Python 3",
   "language": "python",
   "name": "python3"
  },
  "language_info": {
   "codemirror_mode": {
    "name": "ipython",
    "version": 2
   },
   "file_extension": ".py",
   "mimetype": "text/x-python",
   "name": "python",
   "nbconvert_exporter": "python",
   "pygments_lexer": "ipython2",
   "version": "2.7.6"
  }
 },
 "nbformat": 4,
 "nbformat_minor": 0
}